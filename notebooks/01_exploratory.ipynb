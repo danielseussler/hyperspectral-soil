{
 "cells": [
  {
   "cell_type": "code",
   "execution_count": 1,
   "metadata": {},
   "outputs": [],
   "source": [
    "import os\n",
    "from glob import glob\n",
    "\n",
    "import pandas as pd\n",
    "import numpy as np\n",
    "\n",
    "import matplotlib.pyplot as plt"
   ]
  },
  {
   "cell_type": "code",
   "execution_count": 2,
   "metadata": {},
   "outputs": [],
   "source": [
    "class SpectralCurveFiltering():\n",
    "    \"\"\"\n",
    "    Create a histogram (a spectral curve) of a 3D cube, using the merge_function\n",
    "    to aggregate all pixels within one band. The return array will have\n",
    "    the shape of [CHANNELS_COUNT]\n",
    "    \"\"\"\n",
    "\n",
    "    def __init__(self, merge_function = np.mean):\n",
    "        self.merge_function = merge_function\n",
    "\n",
    "    def __call__(self, sample: np.ndarray):\n",
    "        return self.merge_function(sample, axis=(1, 2))"
   ]
  },
  {
   "cell_type": "code",
   "execution_count": 3,
   "metadata": {},
   "outputs": [],
   "source": [
    "def load_data(directory: str):\n",
    "    \"\"\"Load each cube, reduce its dimensionality and append to array.\n",
    "\n",
    "    Args:\n",
    "        directory (str): Directory to either train or test set\n",
    "    Returns:\n",
    "        [type]: A list with spectral curve for each sample.\n",
    "    \"\"\"\n",
    "    \n",
    "    data = []\n",
    "    filtering = SpectralCurveFiltering()\n",
    "    all_files = np.array(\n",
    "        sorted(\n",
    "            glob(os.path.join(directory, \"*.npz\")),\n",
    "            key=lambda x: int(os.path.basename(x).replace(\".npz\", \"\")),\n",
    "        )\n",
    "    )\n",
    "    for file_name in all_files:\n",
    "        with np.load(file_name) as npz:\n",
    "            arr = np.ma.MaskedArray(**npz)\n",
    "        arr = filtering(arr)\n",
    "        data.append(arr)\n",
    "    return np.array(data)"
   ]
  },
  {
   "cell_type": "code",
   "execution_count": 4,
   "metadata": {},
   "outputs": [],
   "source": [
    "def load_gt(file_path: str):\n",
    "    \"\"\"Load labels for train set from the ground truth file.\n",
    "    Args:\n",
    "        file_path (str): Path to the ground truth .csv file.\n",
    "    Returns:\n",
    "        [type]: 2D numpy array with soil properties levels\n",
    "    \"\"\"\n",
    "    \n",
    "    gt_file = pd.read_csv(file_path)\n",
    "    labels = gt_file[[\"P\", \"K\", \"Mg\", \"pH\"]].values\n",
    "    return labels\n"
   ]
  },
  {
   "cell_type": "code",
   "execution_count": 5,
   "metadata": {},
   "outputs": [
    {
     "name": "stdout",
     "output_type": "stream",
     "text": [
      "Train data shape: (1732, 150)\n",
      "Test data shape: (1154, 150)\n",
      "Target data shape: (1732, 4)\n"
     ]
    }
   ],
   "source": [
    "X_train = load_data(\"../data/raw/train_data/train_data\")\n",
    "y_train = load_gt(\"../data/raw/train_data/train_gt.csv\")\n",
    "X_test = load_data(\"../data/raw/test_data\")\n",
    "\n",
    "print(f\"Train data shape: {X_train.shape}\")\n",
    "print(f\"Test data shape: {X_test.shape}\")\n",
    "print(f\"Target data shape: {y_train.shape}\")"
   ]
  },
  {
   "cell_type": "code",
   "execution_count": 6,
   "metadata": {},
   "outputs": [
    {
     "data": {
      "text/plain": [
       "array([[ 1.        ,  0.41349407, -0.10303426,  0.12006662],\n",
       "       [ 0.41349407,  1.        ,  0.23416241,  0.16879292],\n",
       "       [-0.10303426,  0.23416241,  1.        ,  0.01097964],\n",
       "       [ 0.12006662,  0.16879292,  0.01097964,  1.        ]])"
      ]
     },
     "execution_count": 6,
     "metadata": {},
     "output_type": "execute_result"
    }
   ],
   "source": [
    "np.corrcoef(y_train, rowvar=False)"
   ]
  },
  {
   "cell_type": "code",
   "execution_count": 9,
   "metadata": {},
   "outputs": [
    {
     "data": {
      "text/plain": [
       "array([[ 45.1, 188. , 179. ,   7.2],\n",
       "       [ 44.8, 205. , 188. ,   7. ],\n",
       "       [ 44.4, 207. , 145. ,   6.8],\n",
       "       ...,\n",
       "       [ 39.4, 180. , 122. ,   6.5],\n",
       "       [ 37.3, 162. , 127. ,   6.5],\n",
       "       [ 29.5, 146. , 133. ,   6.3]])"
      ]
     },
     "execution_count": 9,
     "metadata": {},
     "output_type": "execute_result"
    }
   ],
   "source": [
    "# List of variables\n",
    "variables = [\"P\", \"K\", \"Mg\", \"pH\"]\n",
    "\n",
    "# Create scatterplots\n",
    "for i in range(len(variables)):\n",
    "    for j in range(i+1, len(variables)):\n",
    "        plt.figure(figsize=(8, 6))\n",
    "        plt.scatter(y_train[:, i], y_train[:, j], c='blue', alpha=0.5)\n",
    "        plt.title(f'{variables[i]} vs {variables[j]}')\n",
    "        plt.xlabel(variables[i])\n",
    "        plt.ylabel(variables[j])\n",
    "        plt.show()"
   ]
  },
  {
   "cell_type": "code",
   "execution_count": null,
   "metadata": {},
   "outputs": [],
   "source": [
    "np.savetxt(\"../data/interim/X_train.txt\", X_train, delimiter=\" \", fmt='%f')\n",
    "np.savetxt(\"../data/interim/X_test.txt\", X_test, delimiter=\" \", fmt='%f')\n",
    "np.savetxt(\"../data/interim/y_train.txt\", y_train, delimiter=\" \", fmt='%f')"
   ]
  }
 ],
 "metadata": {
  "kernelspec": {
   "display_name": ".venv",
   "language": "python",
   "name": "python3"
  },
  "language_info": {
   "codemirror_mode": {
    "name": "ipython",
    "version": 3
   },
   "file_extension": ".py",
   "mimetype": "text/x-python",
   "name": "python",
   "nbconvert_exporter": "python",
   "pygments_lexer": "ipython3",
   "version": "3.10.11"
  }
 },
 "nbformat": 4,
 "nbformat_minor": 2
}
